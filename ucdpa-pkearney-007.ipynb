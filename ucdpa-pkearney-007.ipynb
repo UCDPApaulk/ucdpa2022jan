{
 "cells": [
  {
   "cell_type": "code",
   "execution_count": 1,
   "metadata": {},
   "outputs": [],
   "source": [
    "# data source = \n",
    "# https://data.cso.ie/\n",
    "# CSV file   HPA02\t\n",
    "# Residential Dwelling Property Transactions\n",
    "# irish-property-transactons-HPA02.csv\n",
    "# County  Dwelling Status  Stamp Duty   Event   Type of Buyer   Type of Sale Value\n",
    "\n",
    "import pandas as pd\n",
    "import numpy  as np\n",
    "# import graphics package\n",
    "import matplotlib.pyplot as plt\n",
    "import seaborn as sb\n",
    "import datetime\n",
    "\n",
    "# setup some filenames\n",
    "csv_filename = \"e:\\\\irish-property-transactons-HPA02-value.csv\"\n",
    "csv_result_filename = \"e:\\\\irish-property-transactons-HPA02-results.csv\"\n",
    "counties_filename = \"e:\\\\irish-counties.txt\"\n",
    "\n",
    "startyear = 2000\n",
    "thisyear  = datetime.date.today().year\n",
    "\n",
    "iptyear     = [1.1]\n",
    "ipttypesale = [1.1]\n",
    "iptvalue    = [1.1]\n",
    "iptbuyer    = [\"xx\"]\n",
    "iptcounty   = [\"y\"]\n",
    "\n",
    "iptyearmin = 32766.1\n",
    "\n",
    "# make up a list of applicable years\n",
    "allyears1 = \"\"\n",
    "allyears2 = []\n",
    "lookyear = startyear\n",
    "for y1 in range(thisyear - startyear):\n",
    "    allyears1 = allyears1 + str(lookyear)\n",
    "    allyears2.append(str(lookyear))\n",
    "    lookyear=lookyear+1\n"
   ]
  },
  {
   "cell_type": "code",
   "execution_count": 2,
   "metadata": {},
   "outputs": [],
   "source": [
    "# A routine to generate a single box plot to the screen\n",
    "# the input arry is in  ary1 and the name of the arry is in namOfArr\n",
    "\n",
    "def boxplot(ary1 = [],namOfArr = \"\",x_label = \"\",y_label=\"\"):\n",
    "    plt.boxplot(ary1)\n",
    "    plt.figtext(.40, .92, namOfArr,backgroundcolor='white', color='black', weight='roman')            \n",
    "    print(\"Box plot of \"+namOfArr)\n",
    "    plt.ylabel(y_label+\" \")\n",
    "    plt.xlabel(x_label+\" \") \n",
    "    plt.show()  \n",
    "    print(\"#\")\n",
    "    return( 0)\n"
   ]
  },
  {
   "cell_type": "code",
   "execution_count": 3,
   "metadata": {},
   "outputs": [
    {
     "name": "stdout",
     "output_type": "stream",
     "text": [
      "\n",
      "Reading in Iish counties listing.\n",
      "Reading in Iish counties listing - Done.\n"
     ]
    }
   ],
   "source": [
    "print(\"\")\n",
    "print(\"Reading in Iish counties listing.\")\n",
    "with open(counties_filename) as f:\n",
    "    counties = [line.rstrip('\\n') for line in f]\n",
    "# making a long list of all the coujty names\n",
    "y1=0\n",
    "y2=len(counties)-1\n",
    "allcounties1 = \"\"\n",
    "allcounties2 = []\n",
    "allcounties3 = []\n",
    "while y1<=y2:\n",
    "    allcounties1 = allcounties1+counties[y1]\n",
    "    allcounties2.append(counties[y1])\n",
    "    y1=y1+1\n",
    "print(\"Reading in Iish counties listing - Done.\")\n"
   ]
  },
  {
   "cell_type": "code",
   "execution_count": 4,
   "metadata": {},
   "outputs": [
    {
     "data": {
      "text/html": [
       "<div>\n",
       "<style scoped>\n",
       "    .dataframe tbody tr th:only-of-type {\n",
       "        vertical-align: middle;\n",
       "    }\n",
       "\n",
       "    .dataframe tbody tr th {\n",
       "        vertical-align: top;\n",
       "    }\n",
       "\n",
       "    .dataframe thead th {\n",
       "        text-align: right;\n",
       "    }\n",
       "</style>\n",
       "<table border=\"1\" class=\"dataframe\">\n",
       "  <thead>\n",
       "    <tr style=\"text-align: right;\">\n",
       "      <th></th>\n",
       "      <th>Statistic</th>\n",
       "      <th>Year</th>\n",
       "      <th>County</th>\n",
       "      <th>Dwelling Status</th>\n",
       "      <th>Stamp Duty Event</th>\n",
       "      <th>Type of Buyer</th>\n",
       "      <th>Type of Sale</th>\n",
       "      <th>UNIT</th>\n",
       "      <th>VALUE</th>\n",
       "    </tr>\n",
       "  </thead>\n",
       "  <tbody>\n",
       "    <tr>\n",
       "      <th>0</th>\n",
       "      <td>Value of Sales</td>\n",
       "      <td>2010</td>\n",
       "      <td>All Counties</td>\n",
       "      <td>All Dwelling Statuses</td>\n",
       "      <td>Filings</td>\n",
       "      <td>All Buyer Types</td>\n",
       "      <td>All Sale Types</td>\n",
       "      <td>Euro Million</td>\n",
       "      <td>5620.1</td>\n",
       "    </tr>\n",
       "    <tr>\n",
       "      <th>1</th>\n",
       "      <td>Value of Sales</td>\n",
       "      <td>2010</td>\n",
       "      <td>All Counties</td>\n",
       "      <td>All Dwelling Statuses</td>\n",
       "      <td>Filings</td>\n",
       "      <td>All Buyer Types</td>\n",
       "      <td>Market</td>\n",
       "      <td>Euro Million</td>\n",
       "      <td>5187.5</td>\n",
       "    </tr>\n",
       "    <tr>\n",
       "      <th>2</th>\n",
       "      <td>Value of Sales</td>\n",
       "      <td>2010</td>\n",
       "      <td>All Counties</td>\n",
       "      <td>All Dwelling Statuses</td>\n",
       "      <td>Filings</td>\n",
       "      <td>All Buyer Types</td>\n",
       "      <td>Non-Market</td>\n",
       "      <td>Euro Million</td>\n",
       "      <td>432.6</td>\n",
       "    </tr>\n",
       "    <tr>\n",
       "      <th>3</th>\n",
       "      <td>Value of Sales</td>\n",
       "      <td>2010</td>\n",
       "      <td>All Counties</td>\n",
       "      <td>All Dwelling Statuses</td>\n",
       "      <td>Filings</td>\n",
       "      <td>Household Buyer - All</td>\n",
       "      <td>All Sale Types</td>\n",
       "      <td>Euro Million</td>\n",
       "      <td>5414.8</td>\n",
       "    </tr>\n",
       "    <tr>\n",
       "      <th>4</th>\n",
       "      <td>Value of Sales</td>\n",
       "      <td>2010</td>\n",
       "      <td>All Counties</td>\n",
       "      <td>All Dwelling Statuses</td>\n",
       "      <td>Filings</td>\n",
       "      <td>Household Buyer - All</td>\n",
       "      <td>Market</td>\n",
       "      <td>Euro Million</td>\n",
       "      <td>5015.6</td>\n",
       "    </tr>\n",
       "  </tbody>\n",
       "</table>\n",
       "</div>"
      ],
      "text/plain": [
       "        Statistic  Year        County        Dwelling Status Stamp Duty Event  \\\n",
       "0  Value of Sales  2010  All Counties  All Dwelling Statuses          Filings   \n",
       "1  Value of Sales  2010  All Counties  All Dwelling Statuses          Filings   \n",
       "2  Value of Sales  2010  All Counties  All Dwelling Statuses          Filings   \n",
       "3  Value of Sales  2010  All Counties  All Dwelling Statuses          Filings   \n",
       "4  Value of Sales  2010  All Counties  All Dwelling Statuses          Filings   \n",
       "\n",
       "           Type of Buyer    Type of Sale          UNIT   VALUE  \n",
       "0        All Buyer Types  All Sale Types  Euro Million  5620.1  \n",
       "1        All Buyer Types          Market  Euro Million  5187.5  \n",
       "2        All Buyer Types      Non-Market  Euro Million   432.6  \n",
       "3  Household Buyer - All  All Sale Types  Euro Million  5414.8  \n",
       "4  Household Buyer - All          Market  Euro Million  5015.6  "
      ]
     },
     "execution_count": 4,
     "metadata": {},
     "output_type": "execute_result"
    }
   ],
   "source": [
    "#dfnetf = pd.read_csv(\"e:\\\\netflix_titles.csv\")\n",
    "ipt = pd.read_csv(csv_filename)\n",
    "#np_ipt = np.array(ipt)\n",
    "ipt.head()\n"
   ]
  },
  {
   "cell_type": "code",
   "execution_count": 5,
   "metadata": {},
   "outputs": [
    {
     "name": "stdout",
     "output_type": "stream",
     "text": [
      "\n",
      "Dropping rows with empty slots\n",
      "Number of rows before:  34992\n",
      "Number of rows after :  34992\n",
      "Done\n"
     ]
    }
   ],
   "source": [
    "# drop any row with incomplete data\n",
    "print(\"\")\n",
    "print(\"Dropping rows with empty slots\")\n",
    "print(\"Number of rows before: \",ipt.shape[0])      # ref= https://datagy.io/pandas-number-of-rows/   visited: 06-03-2022\n",
    "ipt= ipt.dropna(axis = 0, how ='any')              # ref= https://www.geeksforgeeks.org/drop-rows-from-pandas-dataframe-with-missing-values-or-nan-in-columns/  visited: 06-03-2022\n",
    "print(\"Number of rows after : \",ipt.shape[0])      # ref= https://datagy.io/pandas-number-of-rows/   visited: 06-03-2022\n",
    "print(\"Done\")\n",
    "\n"
   ]
  },
  {
   "cell_type": "code",
   "execution_count": 6,
   "metadata": {},
   "outputs": [
    {
     "name": "stdout",
     "output_type": "stream",
     "text": [
      "\n",
      "Sorting input\n",
      "Done\n"
     ]
    }
   ],
   "source": [
    "# sort what is left\n",
    "print(\"\")\n",
    "print(\"Sorting input\")\n",
    "ipt = ipt.sort_values(by=['Year','County','Dwelling Status'],ascending=True)\n",
    "print(\"Done\")\n"
   ]
  },
  {
   "cell_type": "code",
   "execution_count": 7,
   "metadata": {},
   "outputs": [
    {
     "name": "stdout",
     "output_type": "stream",
     "text": [
      "\n",
      "Dropping duplicates\n",
      "Number of rows before:  34992\n",
      "Number of rows after :  34992\n",
      "Done\n"
     ]
    }
   ],
   "source": [
    "# drop any duplicates after sorting\n",
    "print(\"\")\n",
    "print(\"Dropping duplicates\")\n",
    "print(\"Number of rows before: \",ipt.shape[0])     # ref= https://datagy.io/pandas-number-of-rows/   visited: 06-03-2022\n",
    "ipt.drop_duplicates(subset=['Year','County','Dwelling Status']) # ref= https://datagy.io/pandas-number-of-rows/   visited: 06-03-2022\n",
    "print(\"Number of rows after : \",ipt.shape[0])   \n",
    "print(\"Done\")\n"
   ]
  },
  {
   "cell_type": "code",
   "execution_count": 8,
   "metadata": {},
   "outputs": [
    {
     "name": "stdout",
     "output_type": "stream",
     "text": [
      "\n",
      "Grouping some data.\n",
      "Grouping some data- done.\n"
     ]
    }
   ],
   "source": [
    "print(\"\")\n",
    "print(\"Grouping some data.\")\n",
    "yeargrouped = ipt.groupby(['Year']).mean()\n",
    "countygrouped = ipt.groupby(['County']).mean()\n",
    "print(\"Grouping some data- done.\")\n",
    "\n"
   ]
  },
  {
   "cell_type": "code",
   "execution_count": 9,
   "metadata": {},
   "outputs": [
    {
     "name": "stdout",
     "output_type": "stream",
     "text": [
      "\n",
      "Breaking up data into stand alone lists.\n",
      "Length of dataframe : 34992\n",
      "\n",
      "Breaking up data into stand alone lists - Done.\n"
     ]
    }
   ],
   "source": [
    "print(\"\")\n",
    "print(\"Breaking up data into stand alone lists.\")\n",
    "print(\"Length of dataframe :\" ,ipt.shape[0])\n",
    "\n",
    "yeargrouped = ipt.groupby(['Year']).mean()\n",
    "eurogrouped = ipt.groupby(['VALUE']).mean()\n",
    "countygroup = ipt.groupby(['County']).mean()\n",
    "\n",
    "# use   iloc\n",
    "# and\n",
    "# convert away from  numpy into a simple list\n",
    "iptyear     = np.array(ipt.iloc[:,1]).tolist()\n",
    "iptsale     = np.array(ipt.iloc[:,6]).tolist()\n",
    "ipteuro     = np.array(ipt.iloc[:,8]).tolist()\n",
    "iptbuyer    = np.array(ipt.iloc[:,5]).tolist()\n",
    "iptcounty   = np.array(ipt.iloc[:,2]).tolist()\n",
    "\n",
    "#iptyear     = ipt.iloc[:,1]\n",
    "#iptsale     = ipt.iloc[:,6]\n",
    "#ipteuro     = ipt.iloc[:,8]\n",
    "#iptbuyer    = ipt.iloc[:,5]\n",
    "#iptcounty   = ipt.iloc[:,2]\n",
    "\n",
    "# converting from  pandas to string/float\n",
    "#iptyear.astype(int)\n",
    "#iptsale.astype(str)\n",
    "#ipteuro.astype(float)\n",
    "#iptbuyer.astype(str)\n",
    "#iptcounty.astype(str)\n",
    "\n",
    "\n",
    "print(\"\")\n",
    "print(\"Breaking up data into stand alone lists - Done.\")\n"
   ]
  },
  {
   "cell_type": "code",
   "execution_count": 10,
   "metadata": {},
   "outputs": [
    {
     "name": "stdout",
     "output_type": "stream",
     "text": [
      "\n",
      "Cleaning up data into stand alone lists.\n",
      "Length of array before:  34991\n",
      "Length of array after :  34992\n",
      "Cleaning up data into stand alone lists - Done.\n"
     ]
    }
   ],
   "source": [
    "### now to clean out unwated values\n",
    "# the wanted data is  ALL BUYER TYPES for ALL SALES TYPE\n",
    "# I Dont want to MIX and duplicate the info\n",
    "print(\"\")\n",
    "print(\"Cleaning up data into stand alone lists.\")\n",
    "y1 = 0\n",
    "y2 = len(iptyear)-1\n",
    "dropcount = 0\n",
    "print(\"Length of array before: \",y2)\n",
    "while y1<=y2:\n",
    "    dropnow = 0\n",
    "    # \"All Buyer Types\",\"All Sale Types\"\n",
    "    if ( iptsale[y2] != 'All Buyer Types' and iptbuyer[y2]!='All Buyer Types' ):\n",
    "        dropnow = 1\n",
    "        \n",
    "    if ( iptcounty[y2]=='All Counties' ):\n",
    "        dropnow = 1\n",
    "\n",
    "    # this section is quicker than the next section of code\n",
    "    if ( dropnow == 1 ):\n",
    "        iptyear[y2] = 0\n",
    "        iptsale[y2] = \"XXX\"\n",
    "        ipteuro[y2] = 0.0\n",
    "        iptbuyer[y2] = \"XXX\"\n",
    "        iptcounty[y2] = \"XXX\"\n",
    "    y1=y1+1\n",
    "    \n",
    "# took too long to delete each element in turn - just make them an invalid entry = quicker        \n",
    "#        if ( dropnow == 1 ):\n",
    "#            tmpnp = np.delete(iptyear,y2) \n",
    "#            iptyear = tmpnp        \n",
    "#            tmpnp = np.delete(iptsale,y2)\n",
    "#            iptsale = tmpnp        \n",
    "#            tmpnp = np.delete(ipteuro,y2)\n",
    "#            ipteuro = tmpnp        \n",
    "#            tmpnp = np.delete(iptbuyer,y2)\n",
    "#            iptbuyer = tmpnp        \n",
    "#            tmpnp = np.delete(iptcounty,y2)\n",
    "#            ipcounty = tmpnp        \n",
    "#            dropcount=dropcount+1\n",
    "#            print(\"dropping invalid info\",dropcount)\n",
    "#    y2=y2-1\n",
    "#y2 = len(iptyear)-1\n",
    "\n",
    "#iptyear2 = iptyear\n",
    "#iptsale2 = iptsale\n",
    "#ipteuro2 = ipteuro\n",
    "#iptbuyer2 = iptbuyer\n",
    "#iptcounty2 = iptcounty\n",
    "#\n",
    "#iptyear    = []\n",
    "#iptsale    = []\n",
    "#ipteuro    = [] \n",
    "#iptbuyer   = []\n",
    "#iptcounty  = []\n",
    "#\n",
    "#y1 = 0\n",
    "#y2= len(iptyear)-1\n",
    "#while  ( y1 <= y2):\n",
    "#    if ( iptcounty2[y1] != \"XXX\"):\n",
    "#        iptyear.append(iptyear2[y1])\n",
    "#        ipteuro.append(ipteuro2[y1])\n",
    "#        iptcounty.append(iptcounty2[y1])\n",
    "#    y1=y1+1\n",
    "#\n",
    "#iptyear2   = []\n",
    "#iptsale2   = []\n",
    "#ipteuro2   = [] \n",
    "#iptbuyer2  = []\n",
    "#iptcounty2 = []\n",
    "#   \n",
    "print(\"Length of array after : \",len(iptyear))\n",
    "print(\"Cleaning up data into stand alone lists - Done.\")\n",
    "\n"
   ]
  },
  {
   "cell_type": "code",
   "execution_count": 11,
   "metadata": {},
   "outputs": [
    {
     "name": "stdout",
     "output_type": "stream",
     "text": [
      "\n",
      "Gathering some table info and totals based on county name.\n",
      "Gathering some table info and totals based on county name - Done.\n"
     ]
    }
   ],
   "source": [
    "print(\"\")\n",
    "print(\"Gathering some table info and totals based on county name.\")\n",
    "                           # https://stackoverflow.com/questions/568962/how-do-i-create-an-empty-array-matrix-in-numpy\n",
    "#countyinfo= np.zeros(shape=(len(counties)+1,2))  #   times found, euro countytotal\n",
    "# collect county info based on caounty name\n",
    "countyinfo1 = []\n",
    "countyinfo2 = []\n",
    "countyinfo3 = []\n",
    "countyinfo1.clear()    \n",
    "countyinfo2.clear()\n",
    "countyinfo3.clear()\n",
    "for y1 in range(len(counties)-1):\n",
    "    countyinfo1.append(0)\n",
    "    countyinfo2.append(0.0)\n",
    "    countyinfo3.append(\"XXX\")\n",
    "    \n",
    "# y1 = index for outer loop\n",
    "# y3 = index for inner loop\n",
    "y1 = 0\n",
    "y2 = len(counties)-1\n",
    "y3 = 0\n",
    "y4 = len(iptcounty)-1\n",
    "for y1 in range(y2):\n",
    "    if ( len(counties[y1] ) >0 ):\n",
    "        y3 = 0\n",
    "        for y3 in range(y4):\n",
    "            if ( counties[y1] == iptcounty[y3]  ):\n",
    "                countyinfo1[y1] = countyinfo1[y1] + 1            # increment counter by one\n",
    "                countyinfo2[y1] = float(countyinfo2[y1]) + float(ipteuro[y3])   # add euro value to tota\n",
    "                countyinfo3[y1] = iptcounty[y3]\n",
    "\n",
    "print(\"Gathering some table info and totals based on county name - Done.\")\n"
   ]
  },
  {
   "cell_type": "code",
   "execution_count": 12,
   "metadata": {},
   "outputs": [
    {
     "name": "stdout",
     "output_type": "stream",
     "text": [
      "\n",
      "Gathering some table info and totals based on transaction year.\n",
      "---yearinfo---\n",
      "[0, 0, 0, 0, 0, 0, 0, 0, 0, 0, 2916, 2916, 2916, 2916, 2916, 2916, 2916, 2916, 2916, 2916, 2916, 0, 0, 0, 0, 0, 0, 0, 0, 0, 0, 0, 0, 0, 0, 0, 0, 0, 0, 0, 0, 0, 0, 0, 0, 0, 0, 0, 0, 0, 0, 0, 0, 0, 0, 0, 0, 0, 0, 0, 0, 0, 0, 0, 0, 0, 0, 0, 0, 0, 0, 0, 0, 0, 0, 0, 0, 0, 0, 0, 0, 0, 0, 0, 0, 0, 0] [0.0, 0.0, 0.0, 0.0, 0.0, 0.0, 0.0, 0.0, 0.0, 0.0, 255102.9000000001, 195768.90000000113, 228879.49999999965, 271129.0000000004, 412483.6999999989, 492656.9999999998, 546877.4000000026, 657777.9999999952, 728697.5000000013, 783036.3000000009, 680525.3999999977, 0.0, 0.0, 0.0, 0.0, 0.0, 0.0, 0.0, 0.0, 0.0, 0.0, 0.0, 0.0, 0.0, 0.0, 0.0, 0.0, 0.0, 0.0, 0.0, 0.0, 0.0, 0.0, 0.0, 0.0, 0.0, 0.0, 0.0, 0.0, 0.0, 0.0, 0.0, 0.0, 0.0, 0.0, 0.0, 0.0, 0.0, 0.0, 0.0, 0.0, 0.0, 0.0, 0.0, 0.0, 0.0, 0.0, 0.0, 0.0, 0.0, 0.0, 0.0, 0.0, 0.0, 0.0, 0.0, 0.0, 0.0, 0.0, 0.0, 0.0, 0.0, 0.0, 0.0, 0.0, 0.0, 0.0] [0, 0, 0, 0, 0, 0, 0, 0, 0, 0, 2010, 2010, 2010, 2010, 2010, 2010, 2010, 2010, 2010, 2010, 2010, 0, 0, 0, 0, 0, 0, 0, 0, 0, 0, 0, 0, 0, 0, 0, 0, 0, 0, 0, 0, 0, 0, 0, 0, 0, 0, 0, 0, 0, 0, 0, 0, 0, 0, 0, 0, 0, 0, 0, 0, 0, 0, 0, 0, 0, 0, 0, 0, 0, 0, 0, 0, 0, 0, 0, 0, 0, 0, 0, 0, 0, 0, 0, 0, 0, 0]\n",
      "====yearinfo====\n",
      "[0, 1296, 1296, 1296, 1296, 1296, 1296, 1296, 1296, 1296, 1296, 1296, 1296, 1296, 1296, 1296, 1296, 1296, 1296, 1296, 1296, 1296, 1296, 1296, 1296, 1296] [0.0, 19610.200000000004, 22425.40000000001, 44158.29999999996, 293329.5000000003, 39461.90000000001, 1527450.7000000004, 120804.49999999984, 55852.80000000002, 168245.09999999977, 33851.699999999975, 28510.5, 11033.100000000011, 77575.5, 10355.300000000001, 59009.399999999994, 36309.300000000054, 121154.90000000018, 11979.90000000001, 20336.6, 18189.699999999993, 23915.699999999968, 43507.29999999997, 51969.199999999946, 34237.30000000002, 66066.00000000009] ['XXX', 'Carlow', 'Cavan', 'Clare', 'Cork', 'Donegal', 'Dublin', 'Galway', 'Kerry', 'Kildare', 'Kilkenny', 'Laois', 'Leitrim', 'Limerick', 'Longford', 'Louth', 'Mayo', 'Meath', 'Monaghan', 'Offaly', 'Roscommon', 'Sligo', 'Tipperary', 'Waterford', 'Westmeath', 'Wexford']\n",
      "Gathering some table info and totals based on transaction year - Done.\n"
     ]
    }
   ],
   "source": [
    "print(\"\")\n",
    "print(\"Gathering some table info and totals based on transaction year.\")\n",
    "# collect euro info info based on year\n",
    "\n",
    "yearinfo1 = []  # the year\n",
    "yearinfo2 = []  # the number of times\n",
    "yearinfo3 = []  # the rolling total for that year\n",
    "yearinfo1.clear()\n",
    "yearinfo2.clear()\n",
    "yearinfo3.clear()\n",
    "for y1 in range(len(allyears1)-1):\n",
    "    yearinfo1.append(0)\n",
    "    yearinfo2.append(0.0)\n",
    "    yearinfo3.append(0)\n",
    "\n",
    "lookyear = startyear\n",
    "y1 = 0\n",
    "y2 = len(allyears1)-1\n",
    "y3 = 0\n",
    "y4 = len(iptyear)-1\n",
    "for y1 in range(len(allyears2)-1):\n",
    "    for y3 in range(y4):\n",
    "        if ( lookyear == iptyear[y3]):\n",
    "            yearinfo1[y1] = yearinfo1[y1]+1\n",
    "            yearinfo2[y1] = yearinfo2[y1]+ipteuro[y3]\n",
    "            yearinfo3[y1] = iptyear[3]\n",
    "    lookyear = lookyear+1\n",
    "    \n",
    "print(\"---yearinfo---\")\n",
    "print(yearinfo1,yearinfo2,yearinfo3)\n",
    "print(\"====yearinfo====\")\n",
    "print(countyinfo1,countyinfo2,countyinfo3)\n",
    "\n",
    "print(\"Gathering some table info and totals based on transaction year - Done.\")\n"
   ]
  },
  {
   "cell_type": "code",
   "execution_count": 13,
   "metadata": {},
   "outputs": [
    {
     "name": "stdout",
     "output_type": "stream",
     "text": [
      "tmparry ==== [19610.200000000004, 22425.40000000001, 44158.29999999996, 293329.5000000003, 39461.90000000001, 1527450.7000000004, 120804.49999999984, 55852.80000000002, 168245.09999999977, 33851.699999999975, 28510.5, 11033.100000000011, 77575.5, 10355.300000000001, 59009.399999999994, 36309.300000000054, 121154.90000000018, 11979.90000000001, 20336.6, 18189.699999999993, 23915.699999999968, 43507.29999999997, 51969.199999999946, 34237.30000000002, 66066.00000000009] ====\n",
      "Box plot of County Informtion\n"
     ]
    },
    {
     "data": {
      "image/png": "[encoded data removed]",
      "text/plain": [
       "<Figure size 432x288 with 1 Axes>"
      ]
     },
     "metadata": {
      "needs_background": "light"
     },
     "output_type": "display_data"
    },
    {
     "name": "stdout",
     "output_type": "stream",
     "text": [
      "#\n"
     ]
    }
   ],
   "source": [
    "tmparry = []\n",
    "y1=1\n",
    "while y1 <= len(countyinfo2) -1:   \n",
    "    tmparry.append(countyinfo2[y1])\n",
    "    y1=y1+1\n",
    "print(\"tmparry\",\"====\",tmparry,\"====\")\n",
    "x = boxplot(tmparry,\"County Informtion\",\"All Counties\",\"Euro 000's\")\n"
   ]
  },
  {
   "cell_type": "code",
   "execution_count": 14,
   "metadata": {},
   "outputs": [
    {
     "name": "stdout",
     "output_type": "stream",
     "text": [
      "tmparry ==== [19610.200000000004, 22425.40000000001, 44158.29999999996, 293329.5000000003, 39461.90000000001, 1527450.7000000004, 120804.49999999984, 55852.80000000002, 168245.09999999977, 33851.699999999975, 28510.5, 11033.100000000011, 77575.5, 10355.300000000001, 59009.399999999994, 36309.300000000054, 121154.90000000018, 11979.90000000001, 20336.6, 18189.699999999993, 23915.699999999968, 43507.29999999997, 51969.199999999946, 34237.30000000002, 66066.00000000009] ====\n",
      "Box plot of County Informtion\n"
     ]
    },
    {
     "data": {
      "image/png": "[encoded data removed]",
      "text/plain": [
       "<Figure size 432x288 with 1 Axes>"
      ]
     },
     "metadata": {
      "needs_background": "light"
     },
     "output_type": "display_data"
    },
    {
     "name": "stdout",
     "output_type": "stream",
     "text": [
      "#\n"
     ]
    }
   ],
   "source": [
    "tmparry = []\n",
    "y1=1\n",
    "while y1 <= len(countyinfo2) -1:   \n",
    "    tmparry.append(countyinfo2[y1])\n",
    "    y1=y1+1\n",
    "print(\"tmparry\",\"====\",tmparry,\"====\")\n",
    "x = boxplot(tmparry,\"County Informtion\",\"All Counties\",\"Euro 000's\")\n",
    "\n"
   ]
  },
  {
   "cell_type": "code",
   "execution_count": null,
   "metadata": {},
   "outputs": [],
   "source": [
    "# Import font\n",
    "#font = FontProperties(fname=r\"C:\\Windows\\Fonts\\simsun.ttc\",size=12)\n",
    "#y=0\n",
    "#x_text = [\"Send you a little red flower\",\"Bomb Expert 2\",\"Warm Hug\",\"   \",\"From Sea Small Column: The Rings of Flame\",\" \",\"emergency rescue\",\"Wishing Shenlong\",\"Boar on the shore\",\"Crazy Primitive 2\",]\n",
    "#x_text = counties\n",
    "#y_values = [4601.59,2564.58,2233.85,1520.79,640.91,478.96,223.36,221.97,104.45,53.35]\n",
    "# Create a canvas\n",
    "#plt.figure(figsize=(15,8),dpi=80)\n",
    "#plt.bar(x_text,y_values,width=0.5,bottom=10)\n",
    "# Set the scale\n",
    "#plt.xticks(range(10),x_text,rotation=90)\n",
    "# Set the coordinate tag\n",
    "#plt.xlabel('County',fontsize=15)\n",
    "#plt.ylabel('Euro x1000',fontsize=15)\n",
    "#plt.show()\n"
   ]
  },
  {
   "cell_type": "code",
   "execution_count": null,
   "metadata": {},
   "outputs": [],
   "source": [
    "# make a scatter plot\n",
    "print(len(tmparry1))\n",
    "#x = np.array([5,7,8,7,2,17,2,9,4,11,12,9,6])\n",
    "#x = np.array([1,2,3,4,5,6,7,8,9,10,11,12,13,14,15,16,17,18,19,20,21,22,23,24,25,26,27,28])\n",
    "x = np.array(counties)\n",
    "#y = np.array([99,86,87,88,111,86,103,87,94,78,77,85,86])\n",
    "y = np.array(tmparry1)\n",
    "plt.scatter(x, y)\n",
    "plt.show()\n"
   ]
  },
  {
   "cell_type": "code",
   "execution_count": 15,
   "metadata": {},
   "outputs": [
    {
     "name": "stdout",
     "output_type": "stream",
     "text": [
      "*** end ***\n"
     ]
    }
   ],
   "source": [
    "print(\"*** end ***\")\n"
   ]
  },
  {
   "cell_type": "code",
   "execution_count": null,
   "metadata": {},
   "outputs": [],
   "source": []
  }
 ],
 "metadata": {
  "kernelspec": {
   "display_name": "Python 3",
   "language": "python",
   "name": "python3"
  },
  "language_info": {
   "codemirror_mode": {
    "name": "ipython",
    "version": 3
   },
   "file_extension": ".py",
   "mimetype": "text/x-python",
   "name": "python",
   "nbconvert_exporter": "python",
   "pygments_lexer": "ipython3",
   "version": "3.8.5"
  }
 },
 "nbformat": 4,
 "nbformat_minor": 4
}
